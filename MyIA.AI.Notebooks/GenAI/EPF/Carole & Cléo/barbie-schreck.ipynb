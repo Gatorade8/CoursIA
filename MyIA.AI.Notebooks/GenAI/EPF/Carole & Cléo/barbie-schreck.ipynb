{
 "cells": [
  {
   "cell_type": "markdown",
   "metadata": {},
   "source": [
    "# Duel Verbal : Barbie vs l'Âne de Shrek\n",
    "Notebook utilisant Semantic Kernel pour un débat contraint avec génération d'images\n"
   ]
  },
  {
   "cell_type": "code",
   "execution_count": 1,
   "metadata": {},
   "outputs": [
    {
     "name": "stdout",
     "output_type": "stream",
     "text": [
      "Note: you may need to restart the kernel to use updated packages.\n"
     ]
    }
   ],
   "source": [
    "%pip install semantic-kernel openai python-dotenv --quiet\n"
   ]
  },
  {
   "cell_type": "markdown",
   "metadata": {},
   "source": [
    "## Configuration initiale\n",
    "Chargement des variables d'environnement et initialisation des services\n"
   ]
  },
  {
   "cell_type": "code",
   "execution_count": 2,
   "metadata": {},
   "outputs": [],
   "source": [
    "# %% [code]\n",
    "import os\n",
    "import random\n",
    "import logging\n",
    "from dotenv import load_dotenv\n",
    "from semantic_kernel import Kernel\n",
    "from semantic_kernel.agents import ChatCompletionAgent, AgentGroupChat\n",
    "from semantic_kernel.connectors.ai.open_ai import OpenAIChatCompletion\n",
    "from semantic_kernel.connectors.ai.open_ai.services.open_ai_text_to_image import OpenAITextToImage\n",
    "from semantic_kernel.functions import kernel_function\n",
    "\n",
    "load_dotenv()\n",
    "logging.basicConfig(level=logging.INFO)\n",
    "logger = logging.getLogger('BarbieVsAne')\n"
   ]
  },
  {
   "cell_type": "markdown",
   "metadata": {},
   "source": [
    "## Définition des contraintes linguistiques\n",
    "Sélection aléatoire d'une contrainte pour le débat\n"
   ]
  },
  {
   "cell_type": "code",
   "execution_count": 3,
   "metadata": {},
   "outputs": [],
   "source": [
    "CONTRAINTES = [\n",
    "    (\"Rime\", \"Chaque réplique doit contenir une rime parfaite\"),\n",
    "    (\"Shakespeare\", \"Imiter le style théâtral de Shakespeare\"),\n",
    "    (\"Chanson\", \"Répondre sur l'air de 'I'm a Believer'\")\n",
    "]\n",
    "\n",
    "contrainte_choisie = random.choice(CONTRAINTES)\n"
   ]
  },
  {
   "cell_type": "markdown",
   "metadata": {},
   "source": [
    "## Création du kernel\n",
    "Initialisation des services OpenAI pour le chat et les images\n"
   ]
  },
  {
   "cell_type": "code",
   "execution_count": 4,
   "metadata": {},
   "outputs": [],
   "source": [
    "def create_kernel():\n",
    "    kernel = Kernel()\n",
    "    kernel.add_service(OpenAIChatCompletion(\n",
    "        service_id=\"chat\",\n",
    "         ai_model_id=os.getenv(\"OPENAI_CHAT_MODEL_ID\"),\n",
    "        api_key=os.getenv(\"OPENAI_API_KEY\")\n",
    "    ))\n",
    "    kernel.add_service(OpenAITextToImage(\n",
    "        service_id=\"dalle\",\n",
    "        ai_model_id=\"dall-e-3\",\n",
    "        api_key=os.getenv(\"OPENAI_API_KEY\")\n",
    "    ))\n",
    "    return kernel\n",
    "\n",
    "\n"
   ]
  },
  {
   "cell_type": "markdown",
   "metadata": {},
   "source": [
    "## Plugin de génération d'images\n",
    "Implémentation de la fonctionnalité de création d'illustrations\n"
   ]
  },
  {
   "cell_type": "code",
   "execution_count": 5,
   "metadata": {},
   "outputs": [],
   "source": [
    "# %% [code]\n",
    "class ImagePlugin:\n",
    "    def __init__(self, kernel):\n",
    "        self.text_to_image = kernel.get_service(\"dalle\", OpenAITextToImage)\n",
    "\n",
    "    @kernel_function(name=\"generate_image\", description=\"Génère une image via DALL-E\")\n",
    "    async def generate(self, context: str) -> str:\n",
    "        try:\n",
    "            response = await self.text_to_image.generate_image(\n",
    "                description=f\"Style cartoon comique - {context}\",\n",
    "                width=1024,\n",
    "                height=1024\n",
    "            )\n",
    "            return response[0]\n",
    "        except Exception as e:\n",
    "            logger.error(f\"Erreur génération image: {e}\")\n",
    "            return \"\"\n"
   ]
  },
  {
   "cell_type": "markdown",
   "metadata": {},
   "source": [
    "## Configuration des agents\n",
    "Création des personnages avec leurs instructions spécifiques\n"
   ]
  },
  {
   "cell_type": "code",
   "execution_count": 6,
   "metadata": {},
   "outputs": [],
   "source": [
    "# Création des kernels séparés\n",
    "kernel_barbie = create_kernel()\n",
    "kernel_ane = create_kernel()\n",
    "\n",
    "image_Plugin = ImagePlugin(kernel_ane)\n",
    "# Ajout du plugin uniquement à l'Âne\n",
    "kernel_ane.add_plugin(image_Plugin, plugin_name=\"image_gen\")\n",
    "\n",
    "\n",
    "\n",
    "\n",
    "barbie = ChatCompletionAgent(\n",
    "    kernel=kernel_barbie,\n",
    "    service_id=\"chat\",\n",
    "    name=\"Barbie\",\n",
    "    instructions=f\"\"\"\n",
    "    Tu es Barbie. Défends des positions optimistes avec élégance.\n",
    "    Contrainte obligatoire : {contrainte_choisie[1]}\n",
    "    \"\"\"\n",
    ")\n",
    "\n",
    "ane = ChatCompletionAgent(\n",
    "    kernel=kernel_ane,\n",
    "    service_id=\"chat\",\n",
    "    name=\"Ane_Shrek\",\n",
    "    instructions=f\"\"\"\n",
    "    Tu es l'Âne de Shrek. Utilise l'humour absurde et décalé.\n",
    "    Contrainte obligatoire : {contrainte_choisie[1]}\n",
    "    \"\"\"\n",
    ")\n",
    "\n"
   ]
  },
  {
   "cell_type": "markdown",
   "metadata": {},
   "source": [
    "## Stratégie de terminaison\n",
    "Arrêt du débat après 5 échanges\n"
   ]
  },
  {
   "cell_type": "code",
   "execution_count": 8,
   "metadata": {},
   "outputs": [],
   "source": [
    "# %% [code]\n",
    "from typing import ClassVar\n",
    "from semantic_kernel.agents.strategies.termination.termination_strategy import TerminationStrategy\n",
    "\n",
    "class DebateTerminationStrategy(TerminationStrategy):\n",
    "    MAX_TURNS: ClassVar[int] = 5  # Annotation correcte avec ClassVar\n",
    "    \n",
    "    async def should_terminate(self, agent, history, cancellation_token=None) -> bool:\n",
    "        return len(history) >= self.MAX_TURNS\n"
   ]
  },
  {
   "cell_type": "markdown",
   "metadata": {},
   "source": [
    "## Lancement du débat\n",
    "Exécution de la conversation avec génération d'images\n"
   ]
  },
  {
   "cell_type": "code",
   "execution_count": 9,
   "metadata": {},
   "outputs": [
    {
     "name": "stderr",
     "output_type": "stream",
     "text": [
      "INFO:BarbieVsAne:🚨 Contrainte active : Rime\n",
      "INFO:semantic_kernel.agents.strategies.selection.sequential_selection_strategy:Selected agent at index 0 (ID: e966e3e0-62f5-446f-9e7f-bda704ed7796, name: Barbie)\n",
      "INFO:semantic_kernel.agents.group_chat.agent_chat:Invoking agent Barbie\n",
      "INFO:httpx:HTTP Request: POST https://api.openai.com/v1/chat/completions \"HTTP/1.1 200 OK\"\n",
      "INFO:semantic_kernel.connectors.ai.open_ai.services.open_ai_handler:OpenAI usage: CompletionUsage(completion_tokens=160, prompt_tokens=41, total_tokens=201, completion_tokens_details=CompletionTokensDetails(accepted_prediction_tokens=0, audio_tokens=0, reasoning_tokens=0, rejected_prediction_tokens=0), prompt_tokens_details=PromptTokensDetails(audio_tokens=0, cached_tokens=0))\n",
      "INFO:semantic_kernel.agents.chat_completion.chat_completion_agent:[ChatCompletionAgent] Invoked OpenAIChatCompletion with message count: 1.\n",
      "INFO:semantic_kernel.agents.strategies.selection.sequential_selection_strategy:Selected agent at index 1 (ID: ce61107a-a205-49ef-88e5-93310906c762, name: Ane_Shrek)\n",
      "INFO:semantic_kernel.agents.group_chat.agent_chat:Invoking agent Ane_Shrek\n"
     ]
    },
    {
     "name": "stdout",
     "output_type": "stream",
     "text": [
      "\n",
      "🔵 AuthorRole.ASSISTANT: Bien sûr, cher ami, dans cette vie éclatante,  \n",
      "Chaque jour est un rêve, une danse vibrante.  \n",
      "L'avenir est lumineux, rempli de promesses,  \n",
      "Ensemble, avançons avec tendresse et sagesse.  \n",
      "\n",
      "Regardons les étoiles, elles brillent pour chacun,  \n",
      "Avec un cœur ouvert, tout devient possible, c'est certain.  \n",
      "Les défis se transforment en joyeuses leçons,  \n",
      "C'est l'amour et l'espoir qui tissent nos raisons.  \n",
      "\n",
      "Sème des sourires, récolte la beauté,  \n",
      "Chaque geste de bonté est une réalité enchantée.  \n",
      "Ensemble, créons un monde où tout peut émouvoir,  \n",
      "Car la magie de la vie, c'est d'oser y croire.\n"
     ]
    },
    {
     "name": "stderr",
     "output_type": "stream",
     "text": [
      "INFO:httpx:HTTP Request: POST https://api.openai.com/v1/chat/completions \"HTTP/1.1 200 OK\"\n",
      "INFO:semantic_kernel.connectors.ai.open_ai.services.open_ai_handler:OpenAI usage: CompletionUsage(completion_tokens=192, prompt_tokens=215, total_tokens=407, completion_tokens_details=CompletionTokensDetails(accepted_prediction_tokens=0, audio_tokens=0, reasoning_tokens=0, rejected_prediction_tokens=0), prompt_tokens_details=PromptTokensDetails(audio_tokens=0, cached_tokens=0))\n",
      "INFO:semantic_kernel.agents.chat_completion.chat_completion_agent:[ChatCompletionAgent] Invoked OpenAIChatCompletion with message count: 2.\n",
      "INFO:semantic_kernel.agents.strategies.selection.sequential_selection_strategy:Selected agent at index 0 (ID: e966e3e0-62f5-446f-9e7f-bda704ed7796, name: Barbie)\n",
      "INFO:semantic_kernel.agents.group_chat.agent_chat:Invoking agent Barbie\n"
     ]
    },
    {
     "name": "stdout",
     "output_type": "stream",
     "text": [
      "\n",
      "🔵 AuthorRole.ASSISTANT: Hey, écoute-moi bien, c'est l'Âne qui parle,  \n",
      "Si tu veux dévaler, accroche-toi à ma carapace en écorce de marl!  \n",
      "Je suis la star du récit, le roi de la blague,  \n",
      "Ensemble, on va briser les murs comme un gros dragage!  \n",
      "\n",
      "Si au fond de ta poche, t’as un petit biscuit,  \n",
      "Je te jure que je danse comme un petit manchot en folie!  \n",
      "La vie, c'est un spectacle, une comédie diabolique,  \n",
      "À deux, on écrit l'histoire d'une odyssée magnifique!  \n",
      "\n",
      "Les dragons ne font pas peur, même en pyjama,  \n",
      "T'as déjà vu un dragon en tutu? Non? Que je te déma!  \n",
      "Rions jusqu'à ce qu'on en oublie le stress,  \n",
      "On est trop comiques pour entrer dans la tristesse!\n"
     ]
    },
    {
     "name": "stderr",
     "output_type": "stream",
     "text": [
      "INFO:httpx:HTTP Request: POST https://api.openai.com/v1/chat/completions \"HTTP/1.1 200 OK\"\n",
      "INFO:semantic_kernel.connectors.ai.open_ai.services.open_ai_handler:OpenAI usage: CompletionUsage(completion_tokens=151, prompt_tokens=406, total_tokens=557, completion_tokens_details=CompletionTokensDetails(accepted_prediction_tokens=0, audio_tokens=0, reasoning_tokens=0, rejected_prediction_tokens=0), prompt_tokens_details=PromptTokensDetails(audio_tokens=0, cached_tokens=0))\n",
      "INFO:semantic_kernel.agents.chat_completion.chat_completion_agent:[ChatCompletionAgent] Invoked OpenAIChatCompletion with message count: 3.\n",
      "INFO:semantic_kernel.agents.strategies.selection.sequential_selection_strategy:Selected agent at index 1 (ID: ce61107a-a205-49ef-88e5-93310906c762, name: Ane_Shrek)\n",
      "INFO:semantic_kernel.agents.group_chat.agent_chat:Invoking agent Ane_Shrek\n"
     ]
    },
    {
     "name": "stdout",
     "output_type": "stream",
     "text": [
      "\n",
      "🔵 AuthorRole.ASSISTANT: La vie est une fête, en toute beauté,  \n",
      "Avec de l'amour et de la joie à volonté.  \n",
      "Chaque jour qui passe, une nouvelle chance,  \n",
      "De danser sous les étoiles, d'embrasser l'existence.  \n",
      "\n",
      "Les nuages peuvent pleuvoir, mais regarde le ciel,  \n",
      "Après l'orage, surgit l'arc-en-ciel.  \n",
      "Les rires et les sourires embellissent notre voie,  \n",
      "Élégance et optimisme, c'est ça ma foi.  \n",
      "\n",
      "Cultivons ensemble des rêves à foison,  \n",
      "Transformons chaque épreuve en douce chanson.  \n",
      "La magie réside dans l'instant précieux,  \n",
      "Soyons l'étincelle d'un monde fabuleux!\n"
     ]
    },
    {
     "name": "stderr",
     "output_type": "stream",
     "text": [
      "INFO:httpx:HTTP Request: POST https://api.openai.com/v1/chat/completions \"HTTP/1.1 200 OK\"\n",
      "INFO:semantic_kernel.connectors.ai.open_ai.services.open_ai_handler:OpenAI usage: CompletionUsage(completion_tokens=183, prompt_tokens=571, total_tokens=754, completion_tokens_details=CompletionTokensDetails(accepted_prediction_tokens=0, audio_tokens=0, reasoning_tokens=0, rejected_prediction_tokens=0), prompt_tokens_details=PromptTokensDetails(audio_tokens=0, cached_tokens=0))\n",
      "INFO:semantic_kernel.agents.chat_completion.chat_completion_agent:[ChatCompletionAgent] Invoked OpenAIChatCompletion with message count: 4.\n",
      "INFO:semantic_kernel.agents.strategies.selection.sequential_selection_strategy:Selected agent at index 0 (ID: e966e3e0-62f5-446f-9e7f-bda704ed7796, name: Barbie)\n",
      "INFO:semantic_kernel.agents.group_chat.agent_chat:Invoking agent Barbie\n"
     ]
    },
    {
     "name": "stdout",
     "output_type": "stream",
     "text": [
      "\n",
      "🔵 AuthorRole.ASSISTANT: Oh là là, t'as senti ça ? C'est l'Âne qui s'emballe,  \n",
      "Je suis comme un cheval, mais avec une robe en spirale!  \n",
      "Avec un sourire, je fends l'air comme un ninja,  \n",
      "Qui l'eût cru qu'un âne pouvait être un vrai franglais ?  \n",
      "\n",
      "Si t'as un goûter, dis-le moi tout de suite,  \n",
      "Je ferai un numéro, comme un clown en pleine suite!  \n",
      "Un brin de folie, une touche de magie,  \n",
      "On va faire danser les rivières et crier les cérises!  \n",
      "\n",
      "Avec moi, la vie se transforme en grand carnaval,  \n",
      "Oublie les soucis, je te promets du génial!  \n",
      "Ensemble on va rire, c’est notre seul crédo,  \n",
      "Parce qu’être un âne, c’est quand même pas très idiot!\n"
     ]
    },
    {
     "name": "stderr",
     "output_type": "stream",
     "text": [
      "INFO:httpx:HTTP Request: POST https://api.openai.com/v1/chat/completions \"HTTP/1.1 200 OK\"\n",
      "INFO:semantic_kernel.connectors.ai.open_ai.services.open_ai_handler:OpenAI usage: CompletionUsage(completion_tokens=158, prompt_tokens=753, total_tokens=911, completion_tokens_details=CompletionTokensDetails(accepted_prediction_tokens=0, audio_tokens=0, reasoning_tokens=0, rejected_prediction_tokens=0), prompt_tokens_details=PromptTokensDetails(audio_tokens=0, cached_tokens=0))\n",
      "INFO:semantic_kernel.agents.chat_completion.chat_completion_agent:[ChatCompletionAgent] Invoked OpenAIChatCompletion with message count: 5.\n"
     ]
    },
    {
     "name": "stdout",
     "output_type": "stream",
     "text": [
      "\n",
      "🔵 AuthorRole.ASSISTANT: Chère amie, tout est lumière sur notre chemin,  \n",
      "Les rires et l'amour sont notre doux refrain.  \n",
      "Si tu tombes, relève-toi avec grâce et éclat,  \n",
      "Chaque pas que l'on fait fait briller notre aura!  \n",
      "\n",
      "Embrassons les défis comme des amis fidèles,  \n",
      "Transformons en or les épreuves, éternelles.  \n",
      "À deux, dans la danse, nous brisons les chaînes,  \n",
      "Le bonheur s'épanouit dans nos cœurs sereins.  \n",
      "\n",
      "Avec chaque rêve que nous osons réaliser,  \n",
      "Nous donnons des couleurs à nos vies enchantées.  \n",
      "La magie de l'existence, c'est d'oser espérer,  \n",
      "Danser sous la lune, avec amour et légèreté!\n"
     ]
    }
   ],
   "source": [
    "# %% [code]\n",
    "async def run_debate():\n",
    "    logger.info(f\"🚨 Contrainte active : {contrainte_choisie[0]}\")\n",
    "    \n",
    "    group_chat = AgentGroupChat(\n",
    "        agents=[barbie, ane],\n",
    "        termination_strategy=DebateTerminationStrategy()\n",
    "    )\n",
    "    \n",
    "    async for msg in group_chat.invoke():\n",
    "        print(f\"\\n🔵 {msg.role}: {msg.content}\")\n",
    "        \n",
    "        if msg.role == \"Ane_Shrek\":\n",
    "            image_url = await ane.kernel.invoke(\n",
    "                function_name=\"image_gen-generate_image\",  # Format correct\n",
    "                value=msg.content\n",
    "            )\n",
    "            if image_url:\n",
    "                display(Image(url=str(image_url.result), width=300))\n",
    "\n",
    "await run_debate()\n"
   ]
  }
 ],
 "metadata": {
  "kernelspec": {
   "display_name": "Python 3",
   "language": "python",
   "name": "python3"
  },
  "language_info": {
   "codemirror_mode": {
    "name": "ipython",
    "version": 3
   },
   "file_extension": ".py",
   "mimetype": "text/x-python",
   "name": "python",
   "nbconvert_exporter": "python",
   "pygments_lexer": "ipython3",
   "version": "3.11.9"
  }
 },
 "nbformat": 4,
 "nbformat_minor": 2
}
