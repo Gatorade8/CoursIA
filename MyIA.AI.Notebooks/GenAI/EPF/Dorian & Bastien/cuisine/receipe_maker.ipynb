{
 "cells": [
  {
   "cell_type": "markdown",
   "metadata": {},
   "source": [
    "# Générateur de Recettes PDF\n",
    "\n",
    "Ce notebook orchestre une collaboration multi-agents pour :\n",
    "1. Collecter des contraintes utilisateur\n",
    "2. Générer une recette personnalisée\n",
    "3. Produire un PDF stylisé\n",
    "\n",
    "**Agents** :  \n",
    "- `InputCollector` → Collecte des préférences  \n",
    "- `RecipeGenerator` → Crée la recette via LLM  \n",
    "- `PDFGenerator` → Génère le document final\n",
    "\n",
    "---"
   ]
  },
  {
   "cell_type": "markdown",
   "metadata": {},
   "source": [
    "### Installation des bibliothèques"
   ]
  },
  {
   "cell_type": "code",
   "execution_count": 7,
   "metadata": {},
   "outputs": [
    {
     "name": "stdout",
     "output_type": "stream",
     "text": [
      "Note: you may need to restart the kernel to use updated packages.\n"
     ]
    },
    {
     "name": "stderr",
     "output_type": "stream",
     "text": [
      "\n",
      "[notice] A new release of pip is available: 24.0 -> 25.0.1\n",
      "[notice] To update, run: python.exe -m pip install --upgrade pip\n"
     ]
    }
   ],
   "source": [
    "# Cell 1 - Installation\n",
    "%pip install semantic-kernel python-dotenv reportlab --quiet\n",
    "from semantic_kernel import Kernel\n",
    "from semantic_kernel.agents import ChatCompletionAgent, AgentGroupChat\n",
    "from semantic_kernel.connectors.ai.open_ai import OpenAIChatCompletion\n",
    "from semantic_kernel.agents.strategies import TerminationStrategy\n",
    "from reportlab.pdfgen import canvas\n",
    "from pydantic import BaseModel"
   ]
  },
  {
   "cell_type": "markdown",
   "metadata": {},
   "source": [
    "## État Global & Configuration"
   ]
  },
  {
   "cell_type": "code",
   "execution_count": 8,
   "metadata": {},
   "outputs": [],
   "source": [
    "class RecipeState:\n",
    "    def __init__(self):\n",
    "        self.diet: str = \"\"\n",
    "        self.excluded_ingredients: list[str] = []\n",
    "        self.guests: int = 4\n",
    "        self.ingredients: list[str] = []\n",
    "        self.steps: list[str] = []\n",
    "        self.cooking_time: float = 0.0\n",
    "        self.ready_to_generate: bool = False\n",
    "        self.pdf_path: str = \"\"\n"
   ]
  },
  {
   "cell_type": "markdown",
   "metadata": {},
   "source": [
    "### Plugins d'agents et fonctions de modification d'état"
   ]
  },
  {
   "cell_type": "code",
   "execution_count": 9,
   "metadata": {},
   "outputs": [],
   "source": [
    "from semantic_kernel.functions import kernel_function\n",
    "from reportlab.pdfgen import canvas\n",
    "\n",
    "class InputCollectorPlugin:\n",
    "    def __init__(self, state: RecipeState):\n",
    "        self.state = state\n",
    "    \n",
    "    @kernel_function(name=\"set_diet\", description=\"Définit le régime alimentaire\")\n",
    "    def set_diet(self, diet: str) -> str:\n",
    "        self.state.diet = diet\n",
    "        return f\"Régime {diet} enregistré\"\n",
    "\n",
    "    @kernel_function(name=\"exclude_ingredient\", description=\"Ajoute un ingrédient à exclure\")\n",
    "    def exclude_ingredient(self, ingredient: str) -> str:\n",
    "        self.state.excluded_ingredients.append(ingredient)\n",
    "        return f\"Ingrédient {ingredient} exclu\"\n",
    "\n",
    "    @kernel_function(name=\"set_guests\", description=\"Définit le nombre de convives\")\n",
    "    def set_guests(self, guests: int) -> str:\n",
    "        self.state.guests = guests\n",
    "        return f\"{guests} convives prévus\"\n",
    "\n",
    "class RecipeGeneratorPlugin:\n",
    "    def __init__(self, state: RecipeState):\n",
    "        self.state = state\n",
    "\n",
    "    @kernel_function(name=\"submit_recipe\", description=\"Valide la recette générée\")\n",
    "    def submit_recipe(self, ingredients: list[str], steps: list[str], cooking_time: float) -> str:\n",
    "        self.state.ingredients = ingredients\n",
    "        self.state.steps = steps\n",
    "        self.state.cooking_time = cooking_time\n",
    "        self.state.ready_to_generate = True\n",
    "        return \"Recette validée et prête pour la génération PDF\"\n",
    "\n",
    "\n",
    "\n",
    "class PDFGeneratorPlugin:\n",
    "    def __init__(self, state: RecipeState):\n",
    "        self.state = state\n",
    "    \n",
    "    @kernel_function(name=\"generate_pdf\", description=\"Génère le PDF final\")\n",
    "    def generate_pdf(self, output_path: str) -> str:\n",
    "        c = canvas.Canvas(output_path)\n",
    "        c.drawString(100, 800, \"Recette personnalisée\")\n",
    "        c.drawString(100, 780, f\"Pour {self.state.guests} personnes\")\n",
    "        c.save()\n",
    "        self.state.pdf_path = output_path\n",
    "        return f\"PDF généré : {output_path}\"\n"
   ]
  },
  {
   "cell_type": "markdown",
   "metadata": {},
   "source": [
    "### Création des agents"
   ]
  },
  {
   "cell_type": "code",
   "execution_count": 10,
   "metadata": {},
   "outputs": [],
   "source": [
    "from semantic_kernel import Kernel\n",
    "from semantic_kernel.agents import ChatCompletionAgent\n",
    "\n",
    "shared_state = RecipeState()\n",
    "\n",
    "# InputCollector\n",
    "input_kernel = Kernel()\n",
    "input_kernel.add_plugin(InputCollectorPlugin(shared_state), \"input_plugin\")\n",
    "input_agent = ChatCompletionAgent(\n",
    "    kernel=input_kernel,\n",
    "    name=\"InputCollector\",\n",
    "    instructions=\"\"\"Collectez les informations utilisateur de manière structurée.\n",
    "    - Demandez d'abord le régime alimentaire\n",
    "    - Puis les ingrédients à exclure\n",
    "    - Enfin le nombre de convives\"\"\"\n",
    ")\n",
    "\n",
    "# RecipeGenerator avec son plugin\n",
    "recipe_kernel = Kernel()\n",
    "recipe_kernel.add_plugin(RecipeGeneratorPlugin(shared_state), \"recipe_plugin\")\n",
    "recipe_agent = ChatCompletionAgent(\n",
    "    kernel=recipe_kernel,\n",
    "    name=\"RecipeGenerator\",\n",
    "    instructions=\"\"\"Générez des recettes en respectant les contraintes.\n",
    "    - Convertir les ingrédients en liste Python\n",
    "    - Structurer les étapes de préparation\n",
    "    - Calculer le temps de cuisson\"\"\"\n",
    ")\n",
    "\n",
    "\n",
    "# PDFGenerator\n",
    "pdf_kernel = Kernel()\n",
    "pdf_kernel.add_plugin(PDFGeneratorPlugin(shared_state), \"pdf_plugin\")\n",
    "pdf_agent = ChatCompletionAgent(\n",
    "    kernel=pdf_kernel,\n",
    "    name=\"PDFGenerator\",\n",
    "    instructions=\"\"\"Générez un PDF professionnel:\n",
    "    - Structurez en sections claires\n",
    "    - Utilisez une mise en page aérée\"\"\"\n",
    ")\n"
   ]
  },
  {
   "cell_type": "markdown",
   "metadata": {},
   "source": [
    "### création de la conversation avec critères de terminaison et/ou de sélection\n"
   ]
  },
  {
   "cell_type": "code",
   "execution_count": 11,
   "metadata": {},
   "outputs": [],
   "source": [
    "from semantic_kernel.agents import AgentGroupChat\n",
    "from pydantic import PrivateAttr\n",
    "from pydantic import BaseModel  # Ajout de l'héritage Pydantic\n",
    "from semantic_kernel.agents.strategies import TerminationStrategy\n",
    "\n",
    "class ReadyTerminationStrategy(TerminationStrategy, BaseModel):  # Ajout de BaseModel\n",
    "    def __init__(self, state: RecipeState):\n",
    "        super().__init__()  # Initialisation correcte\n",
    "        self._state = state\n",
    "\n",
    "    async def should_agent_terminate(self, agent, history):\n",
    "        return self._state.ready_to_generate\n",
    "\n",
    "group_chat = AgentGroupChat(\n",
    "    agents=[input_agent, recipe_agent, pdf_agent],\n",
    "    termination_strategy=ReadyTerminationStrategy(shared_state)\n",
    ")\n",
    "\n",
    "\n"
   ]
  },
  {
   "cell_type": "code",
   "execution_count": null,
   "metadata": {},
   "outputs": [
    {
     "name": "stdout",
     "output_type": "stream",
     "text": [
      "{}\n",
      "{}\n",
      "{}\n"
     ]
    }
   ],
   "source": []
  },
  {
   "cell_type": "markdown",
   "metadata": {},
   "source": [
    "### Boucle principale"
   ]
  },
  {
   "cell_type": "code",
   "execution_count": null,
   "metadata": {},
   "outputs": [
    {
     "ename": "RuntimeError",
     "evalue": "asyncio.run() cannot be called from a running event loop",
     "output_type": "error",
     "traceback": [
      "\u001b[1;31m---------------------------------------------------------------------------\u001b[0m",
      "\u001b[1;31mRuntimeError\u001b[0m                              Traceback (most recent call last)",
      "Cell \u001b[1;32mIn[13], line 16\u001b[0m\n\u001b[0;32m     13\u001b[0m     \u001b[38;5;28mprint\u001b[39m(\u001b[38;5;124m\"\u001b[39m\u001b[38;5;130;01m\\n\u001b[39;00m\u001b[38;5;124mProcessus terminé\u001b[39m\u001b[38;5;124m\"\u001b[39m)\n\u001b[0;32m     15\u001b[0m \u001b[38;5;66;03m# 🔹 Exécution avec asyncio\u001b[39;00m\n\u001b[1;32m---> 16\u001b[0m \u001b[43masyncio\u001b[49m\u001b[38;5;241;43m.\u001b[39;49m\u001b[43mrun\u001b[49m\u001b[43m(\u001b[49m\u001b[43mrecipe_workflow\u001b[49m\u001b[43m(\u001b[49m\u001b[43m)\u001b[49m\u001b[43m)\u001b[49m\n",
      "File \u001b[1;32mc:\\Users\\doria\\AppData\\Local\\Programs\\Python\\Python312\\Lib\\asyncio\\runners.py:190\u001b[0m, in \u001b[0;36mrun\u001b[1;34m(main, debug, loop_factory)\u001b[0m\n\u001b[0;32m    161\u001b[0m \u001b[38;5;250m\u001b[39m\u001b[38;5;124;03m\"\"\"Execute the coroutine and return the result.\u001b[39;00m\n\u001b[0;32m    162\u001b[0m \n\u001b[0;32m    163\u001b[0m \u001b[38;5;124;03mThis function runs the passed coroutine, taking care of\u001b[39;00m\n\u001b[1;32m   (...)\u001b[0m\n\u001b[0;32m    186\u001b[0m \u001b[38;5;124;03m    asyncio.run(main())\u001b[39;00m\n\u001b[0;32m    187\u001b[0m \u001b[38;5;124;03m\"\"\"\u001b[39;00m\n\u001b[0;32m    188\u001b[0m \u001b[38;5;28;01mif\u001b[39;00m events\u001b[38;5;241m.\u001b[39m_get_running_loop() \u001b[38;5;129;01mis\u001b[39;00m \u001b[38;5;129;01mnot\u001b[39;00m \u001b[38;5;28;01mNone\u001b[39;00m:\n\u001b[0;32m    189\u001b[0m     \u001b[38;5;66;03m# fail fast with short traceback\u001b[39;00m\n\u001b[1;32m--> 190\u001b[0m     \u001b[38;5;28;01mraise\u001b[39;00m \u001b[38;5;167;01mRuntimeError\u001b[39;00m(\n\u001b[0;32m    191\u001b[0m         \u001b[38;5;124m\"\u001b[39m\u001b[38;5;124masyncio.run() cannot be called from a running event loop\u001b[39m\u001b[38;5;124m\"\u001b[39m)\n\u001b[0;32m    193\u001b[0m \u001b[38;5;28;01mwith\u001b[39;00m Runner(debug\u001b[38;5;241m=\u001b[39mdebug, loop_factory\u001b[38;5;241m=\u001b[39mloop_factory) \u001b[38;5;28;01mas\u001b[39;00m runner:\n\u001b[0;32m    194\u001b[0m     \u001b[38;5;28;01mreturn\u001b[39;00m runner\u001b[38;5;241m.\u001b[39mrun(main)\n",
      "\u001b[1;31mRuntimeError\u001b[0m: asyncio.run() cannot be called from a running event loop"
     ]
    }
   ],
   "source": [
    "import asyncio\n",
    "\n",
    "async def recipe_workflow():\n",
    "    global group_chat  # S'assurer que c'est bien défini\n",
    "\n",
    "    group_chat.history.add_user_message(\n",
    "        \"Je souhaite une recette végétarienne pour 6 personnes, sans champignons.\"\n",
    "    )\n",
    "\n",
    "    async for message in group_chat.invoke():\n",
    "        print(f\"[{message.name}] {message.content}\")\n",
    "\n",
    "    print(\"\\nProcessus terminé\")\n",
    "\n",
    "# 🔹 Exécution\n",
    "await recipe_workflow()"
   ]
  },
  {
   "cell_type": "markdown",
   "metadata": {},
   "source": [
    "### Génération de pdf"
   ]
  },
  {
   "cell_type": "code",
   "execution_count": null,
   "metadata": {},
   "outputs": [
    {
     "name": "stdout",
     "output_type": "stream",
     "text": [
      "Échec de la génération: Aucun PDF produit malgré les tentatives\n"
     ]
    }
   ],
   "source": [
    "if shared_state.pdf_path:\n",
    "    print(f\"PDF généré avec succès: {shared_state.pdf_path}\")\n",
    "    print(\"Contenu de la recette:\")\n",
    "    print(f\"- Régime: {shared_state.diet}\")\n",
    "    print(f\"- Ingrédients: {', '.join(shared_state.ingredients)}\")\n",
    "else:\n",
    "    print(\"Échec de la génération:\", \n",
    "          \"Aucun PDF produit malgré les tentatives\")\n"
   ]
  }
 ],
 "metadata": {
  "kernelspec": {
   "display_name": "Python 3",
   "language": "python",
   "name": "python3"
  },
  "language_info": {
   "codemirror_mode": {
    "name": "ipython",
    "version": 3
   },
   "file_extension": ".py",
   "mimetype": "text/x-python",
   "name": "python",
   "nbconvert_exporter": "python",
   "pygments_lexer": "ipython3",
   "version": "3.12.2"
  }
 },
 "nbformat": 4,
 "nbformat_minor": 2
}
