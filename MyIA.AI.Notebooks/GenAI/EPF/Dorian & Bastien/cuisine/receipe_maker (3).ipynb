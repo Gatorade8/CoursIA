{
 "cells": [
  {
   "cell_type": "markdown",
   "metadata": {},
   "source": [
    "# Générateur de Recettes\n",
    "\n",
    "Ce notebook orchestre une collaboration multi-agents pour :\n",
    "1. Collecter des contraintes utilisateur\n",
    "2. Générer une recette personnalisée\n",
    "3. Produire un PDF stylisé - problèmes\n",
    "\n",
    "**Agents** :  \n",
    "- `InputCollector` → Collecte des préférences  \n",
    "- `RecipeGenerator` → Crée la recette via LLM  \n",
    "- `PDFGenerator` → Génère le document final - ne marche pas\n",
    "\n",
    "---"
   ]
  },
  {
   "cell_type": "markdown",
   "metadata": {},
   "source": [
    "### Installation des bibliothèques"
   ]
  },
  {
   "cell_type": "code",
   "execution_count": 8,
   "metadata": {},
   "outputs": [
    {
     "name": "stdout",
     "output_type": "stream",
     "text": [
      "Note: you may need to restart the kernel to use updated packages.\n"
     ]
    },
    {
     "name": "stderr",
     "output_type": "stream",
     "text": [
      "\n",
      "[notice] A new release of pip is available: 24.3.1 -> 25.0.1\n",
      "[notice] To update, run: python.exe -m pip install --upgrade pip\n"
     ]
    }
   ],
   "source": [
    "# Cell 1 - Installation\n",
    "%pip install semantic-kernel python-dotenv reportlab --quiet"
   ]
  },
  {
   "cell_type": "markdown",
   "metadata": {},
   "source": [
    "## État Global & Configuration"
   ]
  },
  {
   "cell_type": "code",
   "execution_count": 9,
   "metadata": {},
   "outputs": [],
   "source": [
    "from semantic_kernel.connectors.ai.open_ai import OpenAIChatCompletion\n",
    "from dotenv import load_dotenv\n",
    "import os\n",
    "\n",
    "# Charger les variables d'environnement\n",
    "load_dotenv()\n",
    "\n",
    "class RecipeState:\n",
    "    def __init__(self):\n",
    "        self.diet: str = \"\"\n",
    "        self.excluded_ingredients: list[str] = []\n",
    "        self.guests: int = 4\n",
    "        self.ingredients: list[str] = []\n",
    "        self.steps: list[str] = []\n",
    "        self.cooking_time: float = 0.0\n",
    "        self.ready_to_generate: bool = False\n",
    "        self.pdf_path: str = \"\"\n",
    "\n",
    "# Initialisation OpenAI\n",
    "def add_openai_service(kernel):\n",
    "    kernel.add_service(\n",
    "        OpenAIChatCompletion(\n",
    "            service_id=\"default\",\n",
    "            ai_model_id=\"gpt-4o-mini\",\n",
    "            api_key=os.getenv(\"OPENAI_API_KEY\")\n",
    "        )\n",
    "    )\n"
   ]
  },
  {
   "cell_type": "markdown",
   "metadata": {},
   "source": [
    "### Plugins d'agents et fonctions de modification d'état"
   ]
  },
  {
   "cell_type": "code",
   "execution_count": 10,
   "metadata": {},
   "outputs": [],
   "source": [
    "from semantic_kernel.functions import kernel_function\n",
    "from reportlab.pdfgen import canvas\n",
    "\n",
    "class InputCollectorPlugin:\n",
    "    def __init__(self, state: RecipeState):\n",
    "        self.state = state\n",
    "    \n",
    "    @kernel_function(name=\"set_diet\", description=\"Définit le régime alimentaire\")\n",
    "    def set_diet(self, diet: str) -> str:\n",
    "        self.state.diet = diet\n",
    "        return f\"Régime {diet} enregistré\"\n",
    "\n",
    "    @kernel_function(name=\"exclude_ingredient\", description=\"Ajoute un ingrédient à exclure\")\n",
    "    def exclude_ingredient(self, ingredient: str) -> str:\n",
    "        self.state.excluded_ingredients.append(ingredient)\n",
    "        return f\"Ingrédient {ingredient} exclu\"\n",
    "\n",
    "    @kernel_function(name=\"set_guests\", description=\"Définit le nombre de convives\")\n",
    "    def set_guests(self, guests: int) -> str:\n",
    "        self.state.guests = guests\n",
    "        return f\"{guests} convives prévus\"\n",
    "\n",
    "class RecipeGeneratorPlugin:\n",
    "    def __init__(self, state: RecipeState):\n",
    "        self.state = state\n",
    "\n",
    "    @kernel_function(name=\"submit_recipe\", description=\"Valide la recette générée\")\n",
    "    def submit_recipe(self, ingredients: list[str], steps: list[str], cooking_time: float) -> str:\n",
    "        self.state.ingredients = ingredients\n",
    "        self.state.steps = steps\n",
    "        self.state.cooking_time = cooking_time\n",
    "        # self.state.ready_to_generate = True\n",
    "        # return \"Recette validée et prête pour la génération PDF\"\n",
    "\n",
    "\n",
    "\n",
    "# class PDFGeneratorPlugin:\n",
    "#     def __init__(self, state: RecipeState):\n",
    "#         self.state = state\n",
    "    \n",
    "#     @kernel_function(name=\"generate_pdf\", description=\"Génère le PDF final\")\n",
    "#     def generate_pdf(self, output_path: str) -> str:\n",
    "#         c = canvas.Canvas(output_path)\n",
    "#         c.drawString(100, 800, \"Recette personnalisée\")\n",
    "#         c.drawString(100, 780, f\"Pour {self.state.guests} personnes\")\n",
    "#         c.save()\n",
    "#         self.state.pdf_path = output_path\n",
    "#         return f\"PDF généré : {output_path}\"\n"
   ]
  },
  {
   "cell_type": "markdown",
   "metadata": {},
   "source": [
    "### Création des agents"
   ]
  },
  {
   "cell_type": "code",
   "execution_count": 11,
   "metadata": {},
   "outputs": [],
   "source": [
    "from semantic_kernel import Kernel\n",
    "from semantic_kernel.agents import ChatCompletionAgent\n",
    "\n",
    "shared_state = RecipeState()\n",
    "\n",
    "# InputCollector\n",
    "input_kernel = Kernel()\n",
    "add_openai_service(input_kernel)  # <-- Ajout du service\n",
    "input_kernel.add_plugin(InputCollectorPlugin(shared_state), \"input_plugin\")\n",
    "input_agent = ChatCompletionAgent(\n",
    "    kernel=input_kernel,\n",
    "    name=\"InputCollector\",\n",
    "    instructions=\"\"\"Collectez les informations utilisateur...\"\"\"\n",
    ")\n",
    "\n",
    "# Répétez pour les autres agents\n",
    "\n",
    "# RecipeGenerator avec son plugin\n",
    "recipe_kernel = Kernel()\n",
    "recipe_kernel.add_plugin(RecipeGeneratorPlugin(shared_state), \"recipe_plugin\")\n",
    "recipe_agent = ChatCompletionAgent(\n",
    "    kernel=recipe_kernel,\n",
    "    name=\"RecipeGenerator\",\n",
    "    instructions=\"\"\"Générez des recettes en respectant les contraintes.\n",
    "    - Convertir les ingrédients en liste Python\n",
    "    - Structurer les étapes de préparation\n",
    "    - Calculer le temps de cuisson\"\"\"\n",
    ")\n",
    "\n",
    "\n",
    "# PDFGenerator\n",
    "# pdf_kernel = Kernel()\n",
    "# pdf_kernel.add_plugin(PDFGeneratorPlugin(shared_state), \"pdf_plugin\")\n",
    "# pdf_agent = ChatCompletionAgent(\n",
    "#     kernel=pdf_kernel,\n",
    "#     name=\"PDFGenerator\",\n",
    "#     instructions=\"\"\"Générez un PDF professionnel:\n",
    "#     - Structurez en sections claires\n",
    "#     - Utilisez une mise en page aérée\"\"\"\n",
    "# )\n"
   ]
  },
  {
   "cell_type": "markdown",
   "metadata": {},
   "source": [
    "### création de la conversation avec critères de terminaison et/ou de sélection"
   ]
  },
  {
   "cell_type": "code",
   "execution_count": 12,
   "metadata": {},
   "outputs": [],
   "source": [
    "from semantic_kernel.agents import AgentGroupChat\n",
    "from pydantic import PrivateAttr\n",
    "from pydantic import BaseModel  # Ajout de l'héritage Pydantic\n",
    "from semantic_kernel.agents.strategies import TerminationStrategy\n",
    "\n",
    "# class ReadyTerminationStrategy(TerminationStrategy, BaseModel):\n",
    "#     def __init__(self, state: RecipeState):\n",
    "#         super().__init__()\n",
    "#         self._state = state\n",
    "\n",
    "#     async def should_terminate(self, agent, messages):  # <-- Nom corrigé\n",
    "#         return self._state.ready_to_generate\n",
    "\n",
    "group_chat = AgentGroupChat(\n",
    "    agents=[input_agent, recipe_agent],\n",
    "    # termination_strategy=ReadyTerminationStrategy(shared_state)\n",
    ")"
   ]
  },
  {
   "cell_type": "markdown",
   "metadata": {},
   "source": [
    "### Boucle principale"
   ]
  },
  {
   "cell_type": "code",
   "execution_count": 13,
   "metadata": {},
   "outputs": [
    {
     "name": "stdout",
     "output_type": "stream",
     "text": [
      "[InputCollector] Voici une recette de curry de légumes végétarien, savoureux et sans champignons ni produits laitiers, qui peut servir six personnes.\n",
      "\n",
      "### Curry de Légumes\n",
      "\n",
      "#### Ingrédients :\n",
      "- 2 cuillères à soupe d'huile d'olive\n",
      "- 1 oignon, haché\n",
      "- 2 gousses d'ail, émincées\n",
      "- 1 cuillère à soupe de gingembre frais, râpé\n",
      "- 2 carottes, coupées en dés\n",
      "- 1 poivron rouge, coupé en dés\n",
      "- 1 courgette, coupée en dés\n",
      "- 1 pomme de terre, coupée en dés\n",
      "- 1 tasse de petits pois (frais ou surgelés)\n",
      "- 1 boîte (400 ml) de lait de coco\n",
      "- 1 cuillère à soupe de pâte de curry (ou de curry en poudre, selon votre goût)\n",
      "- 1 boîte (400 g) de tomates concassées\n",
      "- Sel et poivre, au goût\n",
      "- Coriandre fraîche, pour la garniture (facultatif)\n",
      "- Riz basmati ou quinoa, pour servir\n",
      "\n",
      "#### Instructions :\n",
      "\n",
      "1. **Préparation des légumes** : Lavez et coupez tous les légumes comme indiqué.\n",
      "\n",
      "2. **Faire revenir les aromatiques** : Dans une grande poêle ou une casserole, faites chauffer l'huile d'olive à feu moyen. Ajoutez l'oignon, l'ail et le gingembre. Faites cuire pendant environ 5 minutes, jusqu'à ce que l'oignon soit translucide.\n",
      "\n",
      "3. **Cuisson des légumes** : Ajoutez les carottes, le poivron, la courgette et la pomme de terre. Faites revenir pendant environ 5 minutes en remuant régulièrement.\n",
      "\n",
      "4. **Ajout des épices** : Incorporez la pâte de curry (ou le curry en poudre) et mélangez bien pour enrober les légumes.\n",
      "\n",
      "5. **Ajouter les liquides** : Versez la boîte de tomates concassées et le lait de coco. Remuez le tout, puis portez à ébullition.\n",
      "\n",
      "6. **Mijotage** : Réduisez le feu et laissez mijoter à couvert pendant 20 à 25 minutes, jusqu'à ce que les légumes soient tendres. Si nécessaire, ajoutez un peu d'eau si le mélange est trop épais.\n",
      "\n",
      "7. **Ajouter les petits pois** : Incorporez les petits pois dans le curry et laissez mijoter encore 5 minutes.\n",
      "\n",
      "8. **Assaisonner** : Goûtez et ajustez le sel et le poivre selon vos préférences.\n",
      "\n",
      "9. **Servir** : Servez chaud, garni de coriandre fraîche, avec du riz basmati ou du quinoa en accompagnement.\n",
      "\n",
      "### Bon appétit !\n",
      "Cette recette est saine, délicieuse et facile à préparer. Vous pouvez également ajouter d'autres légumes de saison selon vos préférences.\n",
      "\n",
      "Processus terminé\n"
     ]
    }
   ],
   "source": [
    "async def recipe_workflow():\n",
    "    recipe_query = (\n",
    "        \"Je souhaite une recette végétarienne pour 6 personnes, \"\n",
    "        \"sans champignons ni produits laitiers.\"\n",
    "    )\n",
    "    \n",
    "    try:\n",
    "        group_chat.history.add_user_message(recipe_query)\n",
    "        \n",
    "        async for message in group_chat.invoke():\n",
    "            print(f\"[{message.name}] {message.content}\")\n",
    "            \n",
    "            # if shared_state:\n",
    "            #     print(\"\\nTransition vers la génération PDF...\")\n",
    "                # Appel direct au plugin PDF\n",
    "                # pdf_service = PDFGeneratorPlugin(shared_state)\n",
    "                # pdf_service.generate_pdf(\"ma_recette.pdf\")\n",
    "                # break\n",
    "    except Exception as e:\n",
    "        print(f\"Erreur lors de la génération: {str(e)}\")\n",
    "    \n",
    "    print(\"\\nProcessus terminé\")\n",
    "\n",
    "\n",
    "if __name__ == \"__main__\":\n",
    "    await recipe_workflow()\n"
   ]
  },
  {
   "cell_type": "markdown",
   "metadata": {},
   "source": [
    "### Génération de pdf"
   ]
  },
  {
   "cell_type": "code",
   "execution_count": null,
   "metadata": {},
   "outputs": [],
   "source": []
  },
  {
   "cell_type": "code",
   "execution_count": 14,
   "metadata": {},
   "outputs": [],
   "source": [
    "# print(f\"pdf path : {shared_state.pdf_path}\")\n",
    "\n",
    "\n",
    "# if shared_state.pdf_path:\n",
    "#     print(f\"PDF généré avec succès: {shared_state.pdf_path}\")\n",
    "#     print(\"Contenu de la recette:\")\n",
    "#     print(f\"- Régime: {shared_state.diet}\")\n",
    "#     print(f\"- Ingrédients: {', '.join(shared_state.ingredients)}\")\n",
    "# else:\n",
    "#     print(\"Échec de la génération:\", \n",
    "#           \"Aucun PDF produit malgré les tentatives\")\n"
   ]
  }
 ],
 "metadata": {
  "kernelspec": {
   "display_name": "Python 3",
   "language": "python",
   "name": "python3"
  },
  "language_info": {
   "codemirror_mode": {
    "name": "ipython",
    "version": 3
   },
   "file_extension": ".py",
   "mimetype": "text/x-python",
   "name": "python",
   "nbconvert_exporter": "python",
   "pygments_lexer": "ipython3",
   "version": "3.13.2"
  }
 },
 "nbformat": 4,
 "nbformat_minor": 2
}
